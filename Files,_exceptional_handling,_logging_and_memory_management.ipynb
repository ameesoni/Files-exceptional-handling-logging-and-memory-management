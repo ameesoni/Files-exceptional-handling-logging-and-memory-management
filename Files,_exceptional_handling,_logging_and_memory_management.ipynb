{
  "nbformat": 4,
  "nbformat_minor": 0,
  "metadata": {
    "colab": {
      "provenance": []
    },
    "kernelspec": {
      "name": "python3",
      "display_name": "Python 3"
    },
    "language_info": {
      "name": "python"
    }
  },
  "cells": [
    {
      "cell_type": "markdown",
      "source": [
        "### Files, exceptional handling, logging and memory management\n",
        "###Questions"
      ],
      "metadata": {
        "id": "ObE1r_lkNMuX"
      }
    },
    {
      "cell_type": "markdown",
      "source": [
        "### 1. **What is the difference between interpreted and compiled languages?**  \n",
        "- **Interpreted Languages**: These are executed line by line by an interpreter at runtime. Examples include Python and JavaScript. Changes to the code can be run immediately without compilation. These languages are platform-independent but generally slower.  \n",
        "- **Compiled Languages**: These require source code to be compiled into machine code (binary format) by a compiler before execution. Examples include C and C++. Compilation is platform-specific but results in faster execution since the code is pre-converted into machine instructions.\n",
        "\n",
        "\n",
        "### 2. **What is exception handling in Python?**  \n",
        "Exception handling in Python is a mechanism to handle errors gracefully without crashing the program. When an error (exception) occurs, Python provides a way to \"catch\" it using constructs like `try` and `except`. This ensures that the program can handle unexpected scenarios, like file not found, invalid input, or division by zero, and continue functioning.\n",
        "\n",
        "\n",
        "\n",
        "### 3. **What is the purpose of the finally block in exception handling?**  \n",
        "The `finally` block is used to define code that must be executed regardless of whether an exception occurred or not. It is typically used for cleanup actions like closing files, releasing resources, or resetting states. This ensures that important cleanup code always runs, even if an exception is raised.\n",
        "\n",
        "\n",
        "\n",
        "### 4. **What is logging in Python?**  \n",
        "Logging in Python refers to tracking events that happen during program execution. The `logging` module allows developers to record messages, errors, or system behavior, which helps in debugging and monitoring. Logs can be saved to a file or displayed on the console, and they can have varying levels of severity.\n",
        "\n",
        "\n",
        "\n",
        "### 5. **What is the significance of the `__del__` method in Python?**  \n",
        "The `__del__` method is a special method that is called when an object is about to be destroyed (garbage collected). It is used for cleanup tasks like closing files or releasing resources associated with the object. However, its use is generally discouraged in favor of explicit cleanup methods.\n",
        "\n",
        "\n",
        "\n",
        "### 6. **What is the difference between `import` and `from ... import` in Python?**  \n",
        "- **`import`**: This imports the entire module, and you access its contents using the module's name (e.g., `math.sqrt`).  \n",
        "- **`from ... import`**: This imports specific components from a module directly, allowing you to use them without the module name prefix (e.g., `sqrt` instead of `math.sqrt`).\n",
        "\n",
        "\n",
        "\n",
        "### 7. **How can you handle multiple exceptions in Python?**  \n",
        "Multiple exceptions can be handled by listing them in a tuple within an `except` block. For example:  \n",
        "```python\n",
        "except (TypeError, ValueError) as e:\n",
        "```  \n",
        "Alternatively, multiple `except` blocks can be used, each addressing a specific exception type.\n",
        "\n",
        "\n",
        "\n",
        "### 8. **What is the purpose of the `with` statement when handling files in Python?**  \n",
        "The `with` statement ensures that resources like files are properly closed after use, even if an exception occurs. It eliminates the need for explicitly calling `close()` and makes the code cleaner and safer.\n",
        "\n",
        "\n",
        "\n",
        "### 9. **What is the difference between multithreading and multiprocessing?**  \n",
        "- **Multithreading**: Involves running multiple threads within a single process. Threads share memory, making it lightweight but prone to synchronization issues. Python’s GIL (Global Interpreter Lock) can limit its effectiveness for CPU-bound tasks.  \n",
        "- **Multiprocessing**: Involves running multiple processes, each with its own memory space. It bypasses the GIL, making it better suited for CPU-bound tasks, but has higher memory overhead.\n",
        "\n",
        "\n",
        "\n",
        "### 10. **What are the advantages of using logging in a program?**  \n",
        "- Tracks errors and unusual behavior for debugging.  \n",
        "- Helps monitor system health.  \n",
        "- Provides insights into program execution and performance.  \n",
        "- Can log messages to files for later analysis.  \n",
        "- Customizable levels (e.g., DEBUG, INFO, WARNING, ERROR, CRITICAL) allow fine-grained control.\n",
        "\n",
        "\n",
        "\n",
        "### 11. **What is memory management in Python?**  \n",
        "Memory management in Python involves allocating, using, and deallocating memory during program execution. Python uses an automatic garbage collection system to reclaim memory from objects that are no longer in use. Developers can also use features like dynamic memory allocation and reference counting.\n",
        "\n",
        "\n",
        "\n",
        "### 12. **What are the basic steps involved in exception handling in Python?**  \n",
        "1. **Try Block**: Contains code that might raise an exception.  \n",
        "2. **Except Block**: Handles specific exceptions raised in the try block.  \n",
        "3. **Else Block**: Executes code if no exceptions were raised.  \n",
        "4. **Finally Block**: Runs code regardless of whether an exception occurred or not.\n",
        "\n",
        "\n",
        "\n",
        "### 13. **Why is memory management important in Python?**  \n",
        "Efficient memory management prevents memory leaks, ensures optimal program performance, and avoids crashes. Python's garbage collection system automates this, but developers must still be cautious with large data structures and cyclic references.\n",
        "\n",
        "\n",
        "\n",
        "### 14. **What is the role of `try` and `except` in exception handling?**  \n",
        "- **Try**: Defines a block of code to test for exceptions.  \n",
        "- **Except**: Defines a block to handle specific exceptions if they occur during the execution of the try block.\n",
        "\n",
        "\n",
        "\n",
        "### 15. **How does Python's garbage collection system work?**  \n",
        "Python's garbage collector reclaims memory by tracking object references. When an object’s reference count drops to zero, it is eligible for garbage collection. The system also identifies cyclic references (objects referring to each other) and cleans them up using algorithms like generational garbage collection.\n",
        "\n",
        "\n",
        "\n",
        "### 16. **What is the purpose of the `else` block in exception handling?**  \n",
        "The `else` block executes code if no exceptions are raised in the try block. It’s useful for defining code that should run only when the try block is successful.\n",
        "\n",
        "\n",
        "\n",
        "### 17. **What are the common logging levels in Python?**  \n",
        "1. **DEBUG**: Detailed diagnostic information.  \n",
        "2. **INFO**: General events indicating normal operation.  \n",
        "3. **WARNING**: Potential issues that don’t stop execution.  \n",
        "4. **ERROR**: Serious issues preventing part of the program from running.  \n",
        "5. **CRITICAL**: Severe issues causing complete failure.\n",
        "\n",
        "\n",
        "\n",
        "### 18. **What is the difference between `os.fork()` and `multiprocessing` in Python?**  \n",
        "- **`os.fork()`**: Directly creates a child process, but it's Unix/Linux-specific and requires manual resource management.  \n",
        "- **Multiprocessing**: Cross-platform and provides high-level APIs to manage processes and share data between them efficiently.\n",
        "\n",
        "\n",
        "\n",
        "### 19. **What is the importance of closing a file in Python?**  \n",
        "Closing a file releases system resources, prevents file corruption, and ensures data integrity. Failing to close a file can lead to resource leaks or unflushed writes.\n",
        "\n",
        "\n",
        "\n",
        "### 20. **What is the difference between `file.read()` and `file.readline()` in Python?**  \n",
        "- **`file.read()`**: Reads the entire file or a specified number of characters.  \n",
        "- **`file.readline()`**: Reads a single line from the file.\n",
        "\n",
        "\n",
        "\n",
        "### 21. **What is the logging module in Python used for?**  \n",
        "The `logging` module is used for recording messages about a program's execution. It helps track errors, warnings, and system events for debugging and monitoring purposes.\n",
        "\n",
        "\n",
        "\n",
        "### 22. **What is the `os` module in Python used for in file handling?**  \n",
        "The `os` module provides functionality to interact with the operating system, including file and directory manipulation, such as creating, deleting, or renaming files and directories.\n",
        "\n",
        "\n",
        "\n",
        "### 23. **What are the challenges associated with memory management in Python?**  \n",
        "- Handling large objects that consume excessive memory.  \n",
        "- Avoiding cyclic references, which can complicate garbage collection.  \n",
        "- Balancing memory usage in memory-intensive applications.\n",
        "\n",
        "\n",
        "\n",
        "### 24. **How do you raise an exception manually in Python?**  \n",
        "Exceptions can be raised manually using the `raise` statement. For example, `raise ValueError(\"Invalid Input\")` interrupts normal execution and signals an error.\n",
        "\n",
        "\n",
        "\n",
        "### 25. **Why is it important to use multithreading in certain applications?**  \n",
        "Multithreading is important in I/O-bound applications (e.g., web servers, file operations) as it allows concurrent operations, improving efficiency and responsiveness. However, it’s less effective for CPU-bound tasks in Python due to the Global Interpreter Lock (GIL)."
      ],
      "metadata": {
        "id": "6sn1_w-jNd8S"
      }
    },
    {
      "cell_type": "markdown",
      "source": [
        "### Practical Questions"
      ],
      "metadata": {
        "id": "MqaQYHaJPcxV"
      }
    },
    {
      "cell_type": "code",
      "execution_count": 1,
      "metadata": {
        "id": "Y4UgSD0dNGvC"
      },
      "outputs": [],
      "source": [
        "#1. Open a file for writing and write a string to it.\n",
        "with open(\"output.txt\", \"w\") as file:\n",
        "    file.write(\"This is a sample string.\")\n"
      ]
    },
    {
      "cell_type": "code",
      "source": [
        "#2. Read the contents of a file and print each line.\n",
        "with open(\"input.txt\", \"r\") as file:\n",
        "    for line in file:\n",
        "        print(line.strip())\n"
      ],
      "metadata": {
        "id": "FQqTq4YEQBql"
      },
      "execution_count": null,
      "outputs": []
    },
    {
      "cell_type": "code",
      "source": [
        "#3. Handle a case where the file doesn't exist while trying to open it.\n",
        "try:\n",
        "    with open(\"nonexistent.txt\", \"r\") as file:\n",
        "        print(file.read())\n",
        "except FileNotFoundError:\n",
        "    print(\"File not found.\")"
      ],
      "metadata": {
        "id": "MDVCaAsHQPd1"
      },
      "execution_count": null,
      "outputs": []
    },
    {
      "cell_type": "code",
      "source": [
        "#4. Read from one file and write its content to another\n",
        "with open(\"source.txt\", \"r\") as source, open(\"destination.txt\", \"w\") as destination:\n",
        "    for line in source:\n",
        "        destination.write(line)\n"
      ],
      "metadata": {
        "id": "viVKquTfQXTD"
      },
      "execution_count": null,
      "outputs": []
    },
    {
      "cell_type": "code",
      "source": [
        "#5. Catch and handle division by zero error\n",
        "try:\n",
        "    result = 10 / 0\n",
        "except ZeroDivisionError:\n",
        "    print(\"Division by zero is not allowed.\")\n"
      ],
      "metadata": {
        "id": "s9yyKYktQgTP"
      },
      "execution_count": null,
      "outputs": []
    },
    {
      "cell_type": "code",
      "source": [
        "#6. Log an error message when a division by zero exception occurs\n",
        "import logging\n",
        "\n",
        "logging.basicConfig(level=logging.ERROR)\n",
        "\n",
        "try:\n",
        "    result = 10 / 0\n",
        "except ZeroDivisionError:\n",
        "    logging.error(\"Division by zero error occurred.\")\n"
      ],
      "metadata": {
        "id": "C_2OvOrfQnCO"
      },
      "execution_count": null,
      "outputs": []
    },
    {
      "cell_type": "code",
      "source": [
        "#7. Log information at different levels using the logging module\n",
        "import logging\n",
        "\n",
        "logging.basicConfig(level=logging.INFO)\n",
        "\n",
        "logging.info(\"This is an informational message.\")\n",
        "logging.warning(\"This is a warning message.\")\n",
        "logging.error(\"This is an error message.\")\n",
        "logging.critical(\"This is a critical message.\")\n"
      ],
      "metadata": {
        "id": "H11WMXwwQyvP"
      },
      "execution_count": null,
      "outputs": []
    },
    {
      "cell_type": "code",
      "source": [
        "#8. Handle a file opening error using exception handling\n",
        "try:\n",
        "    with open(\"nonexistent.txt\", \"r\") as file:\n",
        "        print(file.read())\n",
        "except FileNotFoundError:\n",
        "    print(\"File not found.\")"
      ],
      "metadata": {
        "id": "_BORQpMSRAY_"
      },
      "execution_count": null,
      "outputs": []
    },
    {
      "cell_type": "code",
      "source": [
        "#9. Read a file line by line and store its content in a list\n",
        "with open(\"input.txt\", \"r\") as file:\n",
        "    lines = [line.strip() for line in file]\n",
        "print(lines)\n"
      ],
      "metadata": {
        "id": "3I7FpvDPRE9d"
      },
      "execution_count": null,
      "outputs": []
    },
    {
      "cell_type": "code",
      "source": [
        "#10. Append data to an existing file\n",
        "with open(\"output.txt\", \"a\") as file:\n",
        "    file.write(\"\\nAppended data.\")\n"
      ],
      "metadata": {
        "id": "oDuo6PLfRL9G"
      },
      "execution_count": null,
      "outputs": []
    },
    {
      "cell_type": "code",
      "source": [
        "#11. Handle an error when accessing a non-existent dictionary key\n",
        "my_dict = {\"a\": 1, \"b\": 2}\n",
        "try:\n",
        "    value = my_dict[\"c\"]\n",
        "except KeyError:\n",
        "    print(\"Key not found in the dictionary.\")\n"
      ],
      "metadata": {
        "id": "p2E2Q0-hRRCv"
      },
      "execution_count": null,
      "outputs": []
    },
    {
      "cell_type": "code",
      "source": [
        "#12. Using multiple except blocks to handle different types of exceptions\n",
        "try:\n",
        "    result = 10 / 0\n",
        "except ZeroDivisionError:\n",
        "    print(\"Division by zero error occurred.\")\n",
        "except ValueError:\n",
        "    print(\"Value error occurred.\")"
      ],
      "metadata": {
        "id": "J46bvL-yRYPN"
      },
      "execution_count": null,
      "outputs": []
    },
    {
      "cell_type": "code",
      "source": [
        "#13. Check if a file exists before reading it\n",
        "import os\n",
        "\n",
        "if os.path.exists(\"input.txt\"):\n",
        "    with open(\"input.txt\", \"r\") as file:\n",
        "        print(file.read())\n",
        "else:\n",
        "    print(\"File not found.\")\n"
      ],
      "metadata": {
        "id": "rgEBDszaRcee"
      },
      "execution_count": null,
      "outputs": []
    },
    {
      "cell_type": "code",
      "source": [
        "#14. Log both informational and error messages\n",
        "import logging\n",
        "\n",
        "logging.basicConfig(level=logging.INFO)\n",
        "\n",
        "logging.info(\"This is an informational message.\")\n",
        "logging.error(\"This is an error message.\")\n"
      ],
      "metadata": {
        "id": "_7SMdyvIRjcq"
      },
      "execution_count": null,
      "outputs": []
    },
    {
      "cell_type": "code",
      "source": [
        "#15. Handle case when the file is empty\n",
        "try:\n",
        "    with open(\"empty.txt\", \"r\") as file:\n",
        "        content = file.read()\n",
        "        if not content:\n",
        "            raise ValueError(\"File is empty.\")"
      ],
      "metadata": {
        "id": "iT2xCCzYRotH"
      },
      "execution_count": null,
      "outputs": []
    },
    {
      "cell_type": "code",
      "source": [
        "#16. Use memory profiling to check memory usage\n",
        "from memory_profiler import profile\n",
        "\n",
        "@profile\n",
        "def my_function():\n",
        "    my_list = [i for i in range(100000)]\n",
        "    return sum(my_list)\n",
        "\n",
        "my_function()\n"
      ],
      "metadata": {
        "id": "vjOXIdjqRv0h"
      },
      "execution_count": null,
      "outputs": []
    },
    {
      "cell_type": "code",
      "source": [
        "#17. Write a list of numbers to a file, one per line\n",
        "numbers = [1, 2, 3, 4, 5]\n",
        "with open(\"numbers.txt\", \"w\") as file:\n",
        "    for number in numbers:\n",
        "        file.write(f\"{number}\\n\")\n",
        "\n"
      ],
      "metadata": {
        "id": "ubaEyYJwR2y0"
      },
      "execution_count": null,
      "outputs": []
    },
    {
      "cell_type": "code",
      "source": [
        "#18. Basic logging setup with rotation after 1MB\n",
        "from logging.handlers import RotatingFileHandler\n",
        "import logging\n",
        "\n",
        "handler = RotatingFileHandler(\"app.log\", maxBytes=1_000_000, backupCount=3)\n",
        "logging.basicConfig(handlers=[handler], level=logging.DEBUG)\n",
        "\n",
        "logging.info(\"This is a log message.\")\n"
      ],
      "metadata": {
        "id": "xmC6sPMRSLNW"
      },
      "execution_count": null,
      "outputs": []
    },
    {
      "cell_type": "code",
      "source": [
        "#19. Handle both IndexError and KeyError\n",
        "my_list = [1, 2, 3]\n",
        "my_dict = {\"a\": 1, \"b\": 2}\n",
        "\n",
        "try:\n",
        "    value = my_list[3]\n",
        "except IndexError:\n",
        "    print(\"Index error occurred.\")"
      ],
      "metadata": {
        "id": "uHB91A_ySU4j"
      },
      "execution_count": null,
      "outputs": []
    },
    {
      "cell_type": "code",
      "source": [
        "#20. Read file contents using a context manager\n",
        "with open(\"input.txt\", \"r\") as file:\n",
        "    content = file.read()\n",
        "    print(content)"
      ],
      "metadata": {
        "id": "18IFlAIWSthL"
      },
      "execution_count": null,
      "outputs": []
    },
    {
      "cell_type": "code",
      "source": [
        "#21. Count occurrences of a word in a file\n",
        "word_to_count = \"sample\"\n",
        "with open(\"input.txt\", \"r\") as file:\n",
        "    content = file.read()\n",
        "    count = content.count(word_to_count)\n",
        "print(f\"The word '{word_to_count}' appears {count} times.\")\n"
      ],
      "metadata": {
        "id": "mzQRkfHqSzw3"
      },
      "execution_count": null,
      "outputs": []
    },
    {
      "cell_type": "code",
      "source": [
        "#22. Check if a file is empty before reading\n",
        "import os\n",
        "\n",
        "if os.path.getsize(\"input.txt\") > 0:\n",
        "    with open(\"input.txt\", \"r\") as file:\n",
        "        print(file.read())\n",
        "else:\n",
        "    print(\"File is empty.\")"
      ],
      "metadata": {
        "id": "JIqLFjKyS6qp"
      },
      "execution_count": null,
      "outputs": []
    },
    {
      "cell_type": "code",
      "source": [
        "#23. Log an error during file handling\n",
        "import logging\n",
        "\n",
        "logging.basicConfig(filename=\"file_errors.log\", level=logging.ERROR)\n",
        "\n",
        "try:\n",
        "    with open(\"nonexistent.txt\", \"r\") as file:\n",
        "        print(file.read())\n",
        "except FileNotFoundError as e:\n",
        "    logging.error(\"File handling error: %s\", e)\n"
      ],
      "metadata": {
        "id": "MugFUbcVS_uK"
      },
      "execution_count": null,
      "outputs": []
    }
  ]
}